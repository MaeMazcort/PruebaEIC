{
 "cells": [
  {
   "cell_type": "markdown",
   "metadata": {},
   "source": [
    "**Nombre:** Nina Maeva Mazadiego Cortes\n",
    "\n",
    "**ID:** 174780"
   ]
  },
  {
   "cell_type": "markdown",
   "metadata": {},
   "source": [
    "# Metodos numericos"
   ]
  },
  {
   "cell_type": "code",
   "execution_count": 27,
   "metadata": {},
   "outputs": [],
   "source": [
    "import numpy as np"
   ]
  },
  {
   "cell_type": "code",
   "execution_count": 28,
   "metadata": {},
   "outputs": [],
   "source": [
    "def my_bisection(f, a, b, tol):\n",
    "  #tol stands for tolerace for precition in calculations\n",
    "\n",
    "  if np.sign(f(a)) == np.sign(f(b)) :\n",
    "    print(\"The scalars a and b do not bound a root\")\n",
    "  m=(a+ b)/2\n",
    "\n",
    "  if np.abs(f(m))<tol:\n",
    "    return m\n",
    "  elif np.sign (f(a)) == np.sign(f(m)) :\n",
    "    return my_bisection(f, m, b, tol)\n",
    "  elif np.sign (f(b)) == np.sign(f (m)):\n",
    "    return my_bisection(f, a, m, tol)"
   ]
  },
  {
   "cell_type": "markdown",
   "metadata": {},
   "source": [
    "#### Example 1"
   ]
  },
  {
   "cell_type": "code",
   "execution_count": 29,
   "metadata": {},
   "outputs": [
    {
     "name": "stdout",
     "output_type": "stream",
     "text": [
      "The solution is 0.6411895751953125\n"
     ]
    }
   ],
   "source": [
    "f = lambda x: x - 2**(-x)\n",
    "root = my_bisection(f, 0, 1, 0.00001)\n",
    "print(\"The solution is\", root)"
   ]
  },
  {
   "cell_type": "markdown",
   "metadata": {},
   "source": [
    "#### Example 2"
   ]
  },
  {
   "cell_type": "code",
   "execution_count": 30,
   "metadata": {},
   "outputs": [
    {
     "name": "stdout",
     "output_type": "stream",
     "text": [
      "The solution is -0.6808662414550781\n"
     ]
    }
   ],
   "source": [
    "f = lambda x: np.exp(x) - x**2 + 3 * x + 2\n",
    "root = my_bisection(f, -1, 0, 0.00001)\n",
    "print(\"The solution is\", root)"
   ]
  },
  {
   "cell_type": "markdown",
   "metadata": {},
   "source": [
    "#### Example 3"
   ]
  },
  {
   "cell_type": "code",
   "execution_count": 31,
   "metadata": {},
   "outputs": [
    {
     "name": "stdout",
     "output_type": "stream",
     "text": [
      "The solution for [-3 <= x <= -2] is -2.1913070678710938\n",
      "The solution for [-1 <= x <= 0] is -0.7981605529785156\n"
     ]
    }
   ],
   "source": [
    "f = lambda x: 2 * x * np.cos(2 * x) - (x + 1)**2\n",
    "\n",
    "root1 = my_bisection(f, -3, -2, 0.00001)\n",
    "print(\"The solution for [-3 <= x <= -2] is\", root1)\n",
    "\n",
    "root2 = my_bisection(f, -1, 0, 0.00001)\n",
    "print(\"The solution for [-1 <= x <= 0] is\", root2)"
   ]
  },
  {
   "cell_type": "markdown",
   "metadata": {},
   "source": [
    "#### Example 4"
   ]
  },
  {
   "cell_type": "code",
   "execution_count": 32,
   "metadata": {},
   "outputs": [
    {
     "name": "stdout",
     "output_type": "stream",
     "text": [
      "The solution for [0.2 <= x <= 0.3] is  0.29752807617187504\n",
      "The solution for [1.2 <= x <= 1.3] is  1.256622314453125\n"
     ]
    }
   ],
   "source": [
    "f = lambda x: x * np.cos(x) - 2 * x**2 + 3 * x - 1\n",
    "\n",
    "root1 = my_bisection(f, 0.2, 0.3, 0.00001)\n",
    "print(\"The solution for [0.2 <= x <= 0.3] is \", root1)\n",
    "\n",
    "root2 = my_bisection(f, 1.2, 1.3, 0.00001)\n",
    "print(\"The solution for [1.2 <= x <= 1.3] is \", root2)"
   ]
  },
  {
   "cell_type": "markdown",
   "metadata": {},
   "source": [
    "#### Example 5"
   ]
  },
  {
   "cell_type": "code",
   "execution_count": 33,
   "metadata": {},
   "outputs": [
    {
     "name": "stdout",
     "output_type": "stream",
     "text": [
      "The first solution is  1.4375\n",
      "The second solution is  1.4140625\n"
     ]
    }
   ],
   "source": [
    "f = lambda x: x**2 - 2\n",
    "\n",
    "root1 = my_bisection(f, 0, 2, 1e-1)\n",
    "print(\"The first solution is \", root1)\n",
    "\n",
    "root2 = my_bisection(f, 0, 2, 1e-2)\n",
    "print(\"The second solution is \", root2)\n"
   ]
  },
  {
   "cell_type": "markdown",
   "metadata": {},
   "source": [
    "#### Example 6"
   ]
  },
  {
   "cell_type": "code",
   "execution_count": 34,
   "metadata": {},
   "outputs": [
    {
     "name": "stdout",
     "output_type": "stream",
     "text": [
      "The solution is  1.365234375\n"
     ]
    }
   ],
   "source": [
    "f = lambda x: x**3 + 4 * x**2 - 10\n",
    "root = my_bisection(f, 1, 2, 1e-4)\n",
    "print(\"The solution is \", root)"
   ]
  },
  {
   "cell_type": "markdown",
   "metadata": {},
   "source": [
    "#### Example 7"
   ]
  },
  {
   "cell_type": "code",
   "execution_count": 35,
   "metadata": {},
   "outputs": [
    {
     "name": "stdout",
     "output_type": "stream",
     "text": [
      "The solution is  0.6416015625\n"
     ]
    }
   ],
   "source": [
    "f = lambda x: np.sqrt(x) - np.cos(x)\n",
    "root = my_bisection(f, 0, 1, 1e-3)\n",
    "print(\"The solution is \", root)"
   ]
  }
 ],
 "metadata": {
  "kernelspec": {
   "display_name": "Python 3",
   "language": "python",
   "name": "python3"
  },
  "language_info": {
   "codemirror_mode": {
    "name": "ipython",
    "version": 3
   },
   "file_extension": ".py",
   "mimetype": "text/x-python",
   "name": "python",
   "nbconvert_exporter": "python",
   "pygments_lexer": "ipython3",
   "version": "3.11.5"
  }
 },
 "nbformat": 4,
 "nbformat_minor": 2
}
